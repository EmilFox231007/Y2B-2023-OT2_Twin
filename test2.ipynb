{
 "cells": [
  {
   "cell_type": "code",
   "execution_count": 34,
   "metadata": {},
   "outputs": [
    {
     "name": "stdout",
     "output_type": "stream",
     "text": [
      "['uvmapped_dish_large_comp - Copy (2) - Copy.png', 'uvmapped_dish_large_comp - Copy (2).png', 'uvmapped_dish_large_comp - Copy (3) - Copy.png', 'uvmapped_dish_large_comp - Copy (3).png', 'uvmapped_dish_large_comp - Copy (4) - Copy.png', 'uvmapped_dish_large_comp - Copy (4).png', 'uvmapped_dish_large_comp - Copy (5) - Copy.png', 'uvmapped_dish_large_comp - Copy (5).png', 'uvmapped_dish_large_comp - Copy (6) - Copy.png', 'uvmapped_dish_large_comp - Copy (6).png', 'uvmapped_dish_large_comp - Copy - Copy.png', 'uvmapped_dish_large_comp - Copy.png', 'uvmapped_dish_large_comp.png', '_plates']\n",
      "uvmapped_dish_large_comp - Copy (3).png 3\n",
      "033_43-14-ROOT1-2023-08-08_control_pH7_-Fe+B_col0_03-Fish Eye Corrected.png\n"
     ]
    }
   ],
   "source": [
    "import os\n",
    "import random\n",
    "\n",
    "os.listdir(\"textures\")\n",
    "\n",
    "texture_list = os.listdir(\"textures\")\n",
    "print(texture_list)\n",
    "random_texture = random.choice(texture_list[:-1])\n",
    "index = texture_list.index(random_texture)\n",
    "\n",
    "print(random_texture, index)\n",
    "plate_path = os.listdir(\"textures/_plates\")[index]\n",
    "print(plate_path)\n"
   ]
  },
  {
   "cell_type": "code",
   "execution_count": null,
   "metadata": {},
   "outputs": [],
   "source": []
  }
 ],
 "metadata": {
  "kernelspec": {
   "display_name": "analytics",
   "language": "python",
   "name": "python3"
  },
  "language_info": {
   "codemirror_mode": {
    "name": "ipython",
    "version": 3
   },
   "file_extension": ".py",
   "mimetype": "text/x-python",
   "name": "python",
   "nbconvert_exporter": "python",
   "pygments_lexer": "ipython3",
   "version": "3.12.0"
  }
 },
 "nbformat": 4,
 "nbformat_minor": 2
}
